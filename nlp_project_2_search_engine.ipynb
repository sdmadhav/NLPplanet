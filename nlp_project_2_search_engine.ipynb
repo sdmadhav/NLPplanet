{
 "cells": [
  {
   "cell_type": "code",
   "execution_count": 2,
   "id": "f7d2b378",
   "metadata": {},
   "outputs": [
    {
     "name": "stdout",
     "output_type": "stream",
     "text": [
      "Collecting nltk\n",
      "  Using cached nltk-3.9.1-py3-none-any.whl.metadata (2.9 kB)\n",
      "Collecting click (from nltk)\n",
      "  Using cached click-8.2.1-py3-none-any.whl.metadata (2.5 kB)\n",
      "Requirement already satisfied: joblib in c:\\users\\2019c\\onedrive\\desktop\\nlpplanet\\nlpplanet\\lib\\site-packages (from nltk) (1.5.2)\n",
      "Collecting regex>=2021.8.3 (from nltk)\n",
      "  Using cached regex-2025.9.1-cp311-cp311-win_amd64.whl.metadata (41 kB)\n",
      "Requirement already satisfied: tqdm in c:\\users\\2019c\\onedrive\\desktop\\nlpplanet\\nlpplanet\\lib\\site-packages (from nltk) (4.67.1)\n",
      "Requirement already satisfied: colorama in c:\\users\\2019c\\onedrive\\desktop\\nlpplanet\\nlpplanet\\lib\\site-packages (from click->nltk) (0.4.6)\n",
      "Using cached nltk-3.9.1-py3-none-any.whl (1.5 MB)\n",
      "Using cached regex-2025.9.1-cp311-cp311-win_amd64.whl (276 kB)\n",
      "Using cached click-8.2.1-py3-none-any.whl (102 kB)\n",
      "Installing collected packages: regex, click, nltk\n",
      "Successfully installed click-8.2.1 nltk-3.9.1 regex-2025.9.1\n"
     ]
    },
    {
     "name": "stderr",
     "output_type": "stream",
     "text": [
      "\n",
      "[notice] A new release of pip is available: 24.0 -> 25.2\n",
      "[notice] To update, run: python.exe -m pip install --upgrade pip\n"
     ]
    }
   ],
   "source": [
    "!pip install nltk"
   ]
  },
  {
   "cell_type": "code",
   "execution_count": 4,
   "id": "b50c6ac5",
   "metadata": {},
   "outputs": [
    {
     "name": "stderr",
     "output_type": "stream",
     "text": [
      "c:\\Users\\2019c\\OneDrive\\Desktop\\NLPplanet\\nlpplanet\\Lib\\site-packages\\tqdm\\auto.py:21: TqdmWarning: IProgress not found. Please update jupyter and ipywidgets. See https://ipywidgets.readthedocs.io/en/stable/user_install.html\n",
      "  from .autonotebook import tqdm as notebook_tqdm\n",
      "[nltk_data] Downloading package punkt to\n",
      "[nltk_data]     C:\\Users\\2019c\\AppData\\Roaming\\nltk_data...\n",
      "[nltk_data]   Package punkt is already up-to-date!\n",
      "[nltk_data] Downloading package punkt_tab to\n",
      "[nltk_data]     C:\\Users\\2019c\\AppData\\Roaming\\nltk_data...\n",
      "[nltk_data]   Package punkt_tab is already up-to-date!\n"
     ]
    }
   ],
   "source": [
    "from huggingface_hub import hf_hub_download\n",
    "\n",
    "import nltk \n",
    "nltk.download('punkt')\n",
    "nltk.download('punkt_tab')\n",
    "from nltk.tokenize import word_tokenize\n",
    "\n",
    "from collections import Counter\n",
    "import numpy as np\n",
    "import pandas as pd"
   ]
  },
  {
   "cell_type": "code",
   "execution_count": 5,
   "id": "fd5f0604",
   "metadata": {},
   "outputs": [
    {
     "data": {
      "text/html": [
       "<div>\n",
       "<style scoped>\n",
       "    .dataframe tbody tr th:only-of-type {\n",
       "        vertical-align: middle;\n",
       "    }\n",
       "\n",
       "    .dataframe tbody tr th {\n",
       "        vertical-align: top;\n",
       "    }\n",
       "\n",
       "    .dataframe thead th {\n",
       "        text-align: right;\n",
       "    }\n",
       "</style>\n",
       "<table border=\"1\" class=\"dataframe\">\n",
       "  <thead>\n",
       "    <tr style=\"text-align: right;\">\n",
       "      <th></th>\n",
       "      <th>title</th>\n",
       "      <th>text</th>\n",
       "      <th>url</th>\n",
       "      <th>authors</th>\n",
       "      <th>timestamp</th>\n",
       "      <th>tags</th>\n",
       "    </tr>\n",
       "  </thead>\n",
       "  <tbody>\n",
       "    <tr>\n",
       "      <th>0</th>\n",
       "      <td>Mental Note Vol. 24</td>\n",
       "      <td>Photo by Josh Riemer on Unsplash\\n\\nMerry Chri...</td>\n",
       "      <td>https://medium.com/invisible-illness/mental-no...</td>\n",
       "      <td>['Ryan Fan']</td>\n",
       "      <td>2020-12-26 03:38:10.479000+00:00</td>\n",
       "      <td>['Mental Health', 'Health', 'Psychology', 'Sci...</td>\n",
       "    </tr>\n",
       "    <tr>\n",
       "      <th>1</th>\n",
       "      <td>Your Brain On Coronavirus</td>\n",
       "      <td>Your Brain On Coronavirus\\n\\nA guide to the cu...</td>\n",
       "      <td>https://medium.com/age-of-awareness/how-the-pa...</td>\n",
       "      <td>['Simon Spichak']</td>\n",
       "      <td>2020-09-23 22:10:17.126000+00:00</td>\n",
       "      <td>['Mental Health', 'Coronavirus', 'Science', 'P...</td>\n",
       "    </tr>\n",
       "    <tr>\n",
       "      <th>2</th>\n",
       "      <td>Mind Your Nose</td>\n",
       "      <td>Mind Your Nose\\n\\nHow smell training can chang...</td>\n",
       "      <td>https://medium.com/neodotlife/mind-your-nose-f...</td>\n",
       "      <td>[]</td>\n",
       "      <td>2020-10-10 20:17:37.132000+00:00</td>\n",
       "      <td>['Biotechnology', 'Neuroscience', 'Brain', 'We...</td>\n",
       "    </tr>\n",
       "    <tr>\n",
       "      <th>3</th>\n",
       "      <td>The 4 Purposes of Dreams</td>\n",
       "      <td>Passionate about the synergy between science a...</td>\n",
       "      <td>https://medium.com/science-for-real/the-4-purp...</td>\n",
       "      <td>['Eshan Samaranayake']</td>\n",
       "      <td>2020-12-21 16:05:19.524000+00:00</td>\n",
       "      <td>['Health', 'Neuroscience', 'Mental Health', 'P...</td>\n",
       "    </tr>\n",
       "    <tr>\n",
       "      <th>4</th>\n",
       "      <td>Surviving a Rod Through the Head</td>\n",
       "      <td>You’ve heard of him, haven’t you? Phineas Gage...</td>\n",
       "      <td>https://medium.com/live-your-life-on-purpose/s...</td>\n",
       "      <td>['Rishav Sinha']</td>\n",
       "      <td>2020-02-26 00:01:01.576000+00:00</td>\n",
       "      <td>['Brain', 'Health', 'Development', 'Psychology...</td>\n",
       "    </tr>\n",
       "  </tbody>\n",
       "</table>\n",
       "</div>"
      ],
      "text/plain": [
       "                              title  \\\n",
       "0               Mental Note Vol. 24   \n",
       "1         Your Brain On Coronavirus   \n",
       "2                    Mind Your Nose   \n",
       "3          The 4 Purposes of Dreams   \n",
       "4  Surviving a Rod Through the Head   \n",
       "\n",
       "                                                text  \\\n",
       "0  Photo by Josh Riemer on Unsplash\\n\\nMerry Chri...   \n",
       "1  Your Brain On Coronavirus\\n\\nA guide to the cu...   \n",
       "2  Mind Your Nose\\n\\nHow smell training can chang...   \n",
       "3  Passionate about the synergy between science a...   \n",
       "4  You’ve heard of him, haven’t you? Phineas Gage...   \n",
       "\n",
       "                                                 url                 authors  \\\n",
       "0  https://medium.com/invisible-illness/mental-no...            ['Ryan Fan']   \n",
       "1  https://medium.com/age-of-awareness/how-the-pa...       ['Simon Spichak']   \n",
       "2  https://medium.com/neodotlife/mind-your-nose-f...                      []   \n",
       "3  https://medium.com/science-for-real/the-4-purp...  ['Eshan Samaranayake']   \n",
       "4  https://medium.com/live-your-life-on-purpose/s...        ['Rishav Sinha']   \n",
       "\n",
       "                          timestamp  \\\n",
       "0  2020-12-26 03:38:10.479000+00:00   \n",
       "1  2020-09-23 22:10:17.126000+00:00   \n",
       "2  2020-10-10 20:17:37.132000+00:00   \n",
       "3  2020-12-21 16:05:19.524000+00:00   \n",
       "4  2020-02-26 00:01:01.576000+00:00   \n",
       "\n",
       "                                                tags  \n",
       "0  ['Mental Health', 'Health', 'Psychology', 'Sci...  \n",
       "1  ['Mental Health', 'Coronavirus', 'Science', 'P...  \n",
       "2  ['Biotechnology', 'Neuroscience', 'Brain', 'We...  \n",
       "3  ['Health', 'Neuroscience', 'Mental Health', 'P...  \n",
       "4  ['Brain', 'Health', 'Development', 'Psychology...  "
      ]
     },
     "execution_count": 5,
     "metadata": {},
     "output_type": "execute_result"
    }
   ],
   "source": [
    "# download dataset of Medium articles from \n",
    "# https://huggingface.co/datasets/fabiochiu/medium-articles\n",
    "df_articles = pd.read_csv(\n",
    "  hf_hub_download(\"fabiochiu/medium-articles\", repo_type=\"dataset\",\n",
    "                  filename=\"medium_articles.csv\")\n",
    ")\n",
    "\n",
    "# There are 192,368 articles in total, but let's keep only the first 10,000 to\n",
    "# make computations faster\n",
    "df_articles = df_articles[:10000]\n",
    "\n",
    "df_articles.head()"
   ]
  },
  {
   "cell_type": "code",
   "execution_count": 8,
   "id": "7e3d7cee",
   "metadata": {},
   "outputs": [
    {
     "name": "stdout",
     "output_type": "stream",
     "text": [
      "{'and': 32, ',': 52, 'we': 15, 'to': 30, 'for': 13, '.': 39, '’': 23, 'be': 13, 'that': 14, 'of': 23, '“': 12, 'the': 31, 'a': 16, '”': 11, 'i': 25, 'can': 16, 'it': 17, 's': 10}\n"
     ]
    }
   ],
   "source": [
    "# count the number of occurrences of each token in each text\n",
    "texts_lowercase = df_articles[\"text\"].str.lower()\n",
    "texts_lowercase_tokenized = texts_lowercase.apply(word_tokenize)\n",
    "token_counters = texts_lowercase_tokenized.apply(Counter).values.tolist()\n",
    "\n",
    "# show the tokens found in the first article with at least 10 occurrences\n",
    "print({token: n_occ for token, n_occ in token_counters[0].items() if n_occ >= 10})"
   ]
  },
  {
   "cell_type": "code",
   "execution_count": 9,
   "id": "fdeff908",
   "metadata": {},
   "outputs": [],
   "source": [
    "# tokenize the query\n",
    "query = \"data science nlp\"\n",
    "query_tokens = word_tokenize(query)"
   ]
  },
  {
   "cell_type": "code",
   "execution_count": 10,
   "id": "2dd6db4e",
   "metadata": {},
   "outputs": [],
   "source": [
    "# computer a matching score for each text with respect to the query. The score is the number of times each token in the query can be found in a specific text.\n",
    "def get_scores(query_tokens, token_counters):\n",
    "    scores = []\n",
    "    for token_counter in token_counters:\n",
    "        matches = [token_counter[query_token] for query_token in query_tokens]\n",
    "        total_score = sum(matches)\n",
    "        scores.append(total_score)\n",
    "    return scores\n",
    "\n",
    "scores = get_scores(query_tokens, token_counters)"
   ]
  },
  {
   "cell_type": "code",
   "execution_count": 11,
   "id": "9c957806",
   "metadata": {},
   "outputs": [
    {
     "name": "stdout",
     "output_type": "stream",
     "text": [
      "1 [score = 186]: The Top Online Data Science Courses for 2019\n",
      "2 [score = 132]: How Much Do You Know About Your Data And Is Your Product Ready To Benefit From Data Science?\n",
      "3 [score = 122]: Under the Hood of K-Nearest Neighbors (KNN) and Popular Model Validation Techniques\n",
      "4 [score = 122]: Streaming Real-time data to AWS Elasticsearch using Kinesis Firehose\n",
      "5 [score = 121]: Financial Times Data Platform: From zero to hero\n",
      "6 [score = 118]: No data governance, no data intelligence!\n",
      "7 [score = 107]: Data Science for Everyone: Getting To Know Your Data — Part 1\n",
      "8 [score = 102]: Data Science, the Good, the Bad, and the… Future\n",
      "9 [score = 102]: A Layman’s Guide to Data Science: How to Become a (Good) Data Scientist\n",
      "10 [score = 98]: Data Science Minimum: 10 Essential Skills You Need to Know to Start Doing Data Science\n"
     ]
    }
   ],
   "source": [
    "# retrieve the top_n articles with the highest scores and show them \n",
    "\n",
    "def show_best_results(df_articles, scores, top_n = 10):\n",
    "    best_indexes = np.argsort(scores)[::-1][:top_n]\n",
    "    for position, idx in enumerate(best_indexes):\n",
    "        row = df_articles.iloc[idx]\n",
    "        title = row[\"title\"]\n",
    "        score = scores[idx]\n",
    "        print(f\"{position+1} [score = {score}]: {title}\")\n",
    "\n",
    "show_best_results(df_articles, scores)"
   ]
  },
  {
   "cell_type": "code",
   "execution_count": 12,
   "id": "f9a12123",
   "metadata": {},
   "outputs": [
    {
     "name": "stdout",
     "output_type": "stream",
     "text": [
      "1 [score = 589]: How to Make Your First $10,000 as a Freelance Writer\n",
      "2 [score = 583]: Russ Roberts and Tyler on COVID-19 (Ep. 90 — BONUS)\n",
      "3 [score = 526]: The Big Disruption\n",
      "4 [score = 461]: Sam Altman on Loving Community, Hating Coworking, and the Hunt for Talent (Ep. 61 — Live)\n",
      "5 [score = 394]: Paul Romer on a Culture of Science and Working Hard (Ep. 96)\n",
      "6 [score = 392]: Nicholas Bloom on Management, Productivity, and Scientific Progress (Ep. 102)\n",
      "7 [score = 349]: SXSW 2019 Ultimate Guide to the Panels, Popups and Parties\n",
      "8 [score = 341]: Glen Weyl on Fighting COVID-19 and the Role of the Academic Expert (Ep. 94 — BONUS)\n",
      "9 [score = 319]: The Top Online Data Science Courses for 2019\n",
      "10 [score = 308]: A Deep Conceptual Guide to Mutual Information\n"
     ]
    }
   ],
   "source": [
    "# try a different query\n",
    "query = \"how to learn data science\"\n",
    "query_tokens = word_tokenize(query)\n",
    "scores = get_scores(query_tokens, token_counters)\n",
    "show_best_results(df_articles, scores)"
   ]
  },
  {
   "cell_type": "markdown",
   "id": "811a7b5e",
   "metadata": {},
   "source": [
    "Unfortunately, this time the results are not as good as before. Why?\n",
    "\n",
    "That’s because the query contains tokens like “how” and “to”, which are very frequent in most of the articles in the dataset. As a consequence, the articles with the majority of these tokens are returned and tokens like “data” and “science” have less influence on the results."
   ]
  },
  {
   "cell_type": "code",
   "execution_count": 13,
   "id": "12848683",
   "metadata": {},
   "outputs": [
    {
     "name": "stderr",
     "output_type": "stream",
     "text": [
      "[nltk_data] Downloading package stopwords to\n",
      "[nltk_data]     C:\\Users\\2019c\\AppData\\Roaming\\nltk_data...\n",
      "[nltk_data]   Package stopwords is already up-to-date!\n"
     ]
    }
   ],
   "source": [
    "# removing stopwords\n",
    "import nltk\n",
    "nltk.download(\"stopwords\")\n",
    "from nltk.corpus import stopwords\n",
    "import string\n",
    "\n",
    "english_stopwords = stopwords.words(\"english\")"
   ]
  },
  {
   "cell_type": "markdown",
   "id": "ab3f20a0",
   "metadata": {},
   "source": [
    "Punctuation characters can be all found in the string string.punctuation.\n",
    "\n"
   ]
  },
  {
   "cell_type": "code",
   "execution_count": 14,
   "id": "7935e1b7",
   "metadata": {},
   "outputs": [
    {
     "data": {
      "text/plain": [
       "'!\"#$%&\\'()*+,-./:;<=>?@[\\\\]^_`{|}~'"
      ]
     },
     "execution_count": 14,
     "metadata": {},
     "output_type": "execute_result"
    }
   ],
   "source": [
    "string.punctuation"
   ]
  },
  {
   "cell_type": "code",
   "execution_count": 15,
   "id": "1ef3c049",
   "metadata": {},
   "outputs": [],
   "source": [
    "texts_lowercase = df_articles[\"text\"].str.lower()\n",
    "texts_lowercase_tokenized = texts_lowercase.apply(word_tokenize)\n",
    "texts_lowercase_tokenized_no_sw = texts_lowercase_tokenized.apply(lambda token_list: [token for token in token_list\n",
    "                                                                                      if token not in english_stopwords and token not in string.punctuation ])"
   ]
  },
  {
   "cell_type": "code",
   "execution_count": 16,
   "id": "5e53e7d3",
   "metadata": {},
   "outputs": [
    {
     "name": "stdout",
     "output_type": "stream",
     "text": [
      "{'’': 23, '“': 12, 'us': 6, '”': 11, 'life': 6}\n"
     ]
    }
   ],
   "source": [
    "token_counters = texts_lowercase_tokenized_no_sw.apply(Counter).values.tolist()\n",
    "# show the tokens found in the first article with at least 6 occurrences\n",
    "print({token: n_occ for token, n_occ in token_counters[0].items() if n_occ >= 6})"
   ]
  },
  {
   "cell_type": "markdown",
   "id": "5617f917",
   "metadata": {},
   "source": [
    "So, let’s try again the \"how to learn data science\" query and see the results.\n",
    "\n"
   ]
  },
  {
   "cell_type": "code",
   "execution_count": 17,
   "id": "ebe505c7",
   "metadata": {},
   "outputs": [
    {
     "name": "stdout",
     "output_type": "stream",
     "text": [
      "Tokenized query without stopwords: ['learn', 'data', 'science']\n",
      "\n"
     ]
    }
   ],
   "source": [
    "# tokenize the query and remove stopwords\n",
    "query = \"how to learn data science\"\n",
    "query_tokens = word_tokenize(query)\n",
    "query_tokens_no_sw = [token for token in query_tokens if token not in english_stopwords and token not in string.punctuation]\n",
    "print(f\"Tokenized query without stopwords: {query_tokens_no_sw}\")\n",
    "print()"
   ]
  },
  {
   "cell_type": "code",
   "execution_count": 18,
   "id": "124774be",
   "metadata": {},
   "outputs": [
    {
     "name": "stdout",
     "output_type": "stream",
     "text": [
      "1 [score = 200]: The Top Online Data Science Courses for 2019\n",
      "2 [score = 132]: How Much Do You Know About Your Data And Is Your Product Ready To Benefit From Data Science?\n",
      "3 [score = 124]: Under the Hood of K-Nearest Neighbors (KNN) and Popular Model Validation Techniques\n",
      "4 [score = 123]: Streaming Real-time data to AWS Elasticsearch using Kinesis Firehose\n",
      "5 [score = 121]: Financial Times Data Platform: From zero to hero\n",
      "6 [score = 119]: No data governance, no data intelligence!\n",
      "7 [score = 107]: A Layman’s Guide to Data Science: How to Become a (Good) Data Scientist\n",
      "8 [score = 107]: Data Science for Everyone: Getting To Know Your Data — Part 1\n",
      "9 [score = 104]: Data Science, the Good, the Bad, and the… Future\n",
      "10 [score = 99]: Data Science Minimum: 10 Essential Skills You Need to Know to Start Doing Data Science\n"
     ]
    }
   ],
   "source": [
    "#show the best results\n",
    "scores =  get_scores(query_tokens, token_counters)\n",
    "show_best_results(df_articles, scores)"
   ]
  },
  {
   "cell_type": "code",
   "execution_count": null,
   "id": "0ac5c824",
   "metadata": {},
   "outputs": [],
   "source": []
  },
  {
   "cell_type": "markdown",
   "id": "bb5cfe0e",
   "metadata": {},
   "source": [
    "# Code Exercises"
   ]
  },
  {
   "cell_type": "code",
   "execution_count": 1,
   "id": "468e60e0",
   "metadata": {},
   "outputs": [],
   "source": [
    "#reimplement the search engine logic using countvectorizer class from sklearn\n",
    "from sklearn.feature_extraction.text import CountVectorizer\n"
   ]
  },
  {
   "cell_type": "code",
   "execution_count": 6,
   "id": "61034509",
   "metadata": {},
   "outputs": [
    {
     "data": {
      "text/html": [
       "<div>\n",
       "<style scoped>\n",
       "    .dataframe tbody tr th:only-of-type {\n",
       "        vertical-align: middle;\n",
       "    }\n",
       "\n",
       "    .dataframe tbody tr th {\n",
       "        vertical-align: top;\n",
       "    }\n",
       "\n",
       "    .dataframe thead th {\n",
       "        text-align: right;\n",
       "    }\n",
       "</style>\n",
       "<table border=\"1\" class=\"dataframe\">\n",
       "  <thead>\n",
       "    <tr style=\"text-align: right;\">\n",
       "      <th></th>\n",
       "      <th>title</th>\n",
       "      <th>text</th>\n",
       "      <th>url</th>\n",
       "      <th>authors</th>\n",
       "      <th>timestamp</th>\n",
       "      <th>tags</th>\n",
       "    </tr>\n",
       "  </thead>\n",
       "  <tbody>\n",
       "    <tr>\n",
       "      <th>0</th>\n",
       "      <td>Mental Note Vol. 24</td>\n",
       "      <td>Photo by Josh Riemer on Unsplash\\n\\nMerry Chri...</td>\n",
       "      <td>https://medium.com/invisible-illness/mental-no...</td>\n",
       "      <td>['Ryan Fan']</td>\n",
       "      <td>2020-12-26 03:38:10.479000+00:00</td>\n",
       "      <td>['Mental Health', 'Health', 'Psychology', 'Sci...</td>\n",
       "    </tr>\n",
       "    <tr>\n",
       "      <th>1</th>\n",
       "      <td>Your Brain On Coronavirus</td>\n",
       "      <td>Your Brain On Coronavirus\\n\\nA guide to the cu...</td>\n",
       "      <td>https://medium.com/age-of-awareness/how-the-pa...</td>\n",
       "      <td>['Simon Spichak']</td>\n",
       "      <td>2020-09-23 22:10:17.126000+00:00</td>\n",
       "      <td>['Mental Health', 'Coronavirus', 'Science', 'P...</td>\n",
       "    </tr>\n",
       "    <tr>\n",
       "      <th>2</th>\n",
       "      <td>Mind Your Nose</td>\n",
       "      <td>Mind Your Nose\\n\\nHow smell training can chang...</td>\n",
       "      <td>https://medium.com/neodotlife/mind-your-nose-f...</td>\n",
       "      <td>[]</td>\n",
       "      <td>2020-10-10 20:17:37.132000+00:00</td>\n",
       "      <td>['Biotechnology', 'Neuroscience', 'Brain', 'We...</td>\n",
       "    </tr>\n",
       "    <tr>\n",
       "      <th>3</th>\n",
       "      <td>The 4 Purposes of Dreams</td>\n",
       "      <td>Passionate about the synergy between science a...</td>\n",
       "      <td>https://medium.com/science-for-real/the-4-purp...</td>\n",
       "      <td>['Eshan Samaranayake']</td>\n",
       "      <td>2020-12-21 16:05:19.524000+00:00</td>\n",
       "      <td>['Health', 'Neuroscience', 'Mental Health', 'P...</td>\n",
       "    </tr>\n",
       "    <tr>\n",
       "      <th>4</th>\n",
       "      <td>Surviving a Rod Through the Head</td>\n",
       "      <td>You’ve heard of him, haven’t you? Phineas Gage...</td>\n",
       "      <td>https://medium.com/live-your-life-on-purpose/s...</td>\n",
       "      <td>['Rishav Sinha']</td>\n",
       "      <td>2020-02-26 00:01:01.576000+00:00</td>\n",
       "      <td>['Brain', 'Health', 'Development', 'Psychology...</td>\n",
       "    </tr>\n",
       "  </tbody>\n",
       "</table>\n",
       "</div>"
      ],
      "text/plain": [
       "                              title  \\\n",
       "0               Mental Note Vol. 24   \n",
       "1         Your Brain On Coronavirus   \n",
       "2                    Mind Your Nose   \n",
       "3          The 4 Purposes of Dreams   \n",
       "4  Surviving a Rod Through the Head   \n",
       "\n",
       "                                                text  \\\n",
       "0  Photo by Josh Riemer on Unsplash\\n\\nMerry Chri...   \n",
       "1  Your Brain On Coronavirus\\n\\nA guide to the cu...   \n",
       "2  Mind Your Nose\\n\\nHow smell training can chang...   \n",
       "3  Passionate about the synergy between science a...   \n",
       "4  You’ve heard of him, haven’t you? Phineas Gage...   \n",
       "\n",
       "                                                 url                 authors  \\\n",
       "0  https://medium.com/invisible-illness/mental-no...            ['Ryan Fan']   \n",
       "1  https://medium.com/age-of-awareness/how-the-pa...       ['Simon Spichak']   \n",
       "2  https://medium.com/neodotlife/mind-your-nose-f...                      []   \n",
       "3  https://medium.com/science-for-real/the-4-purp...  ['Eshan Samaranayake']   \n",
       "4  https://medium.com/live-your-life-on-purpose/s...        ['Rishav Sinha']   \n",
       "\n",
       "                          timestamp  \\\n",
       "0  2020-12-26 03:38:10.479000+00:00   \n",
       "1  2020-09-23 22:10:17.126000+00:00   \n",
       "2  2020-10-10 20:17:37.132000+00:00   \n",
       "3  2020-12-21 16:05:19.524000+00:00   \n",
       "4  2020-02-26 00:01:01.576000+00:00   \n",
       "\n",
       "                                                tags  \n",
       "0  ['Mental Health', 'Health', 'Psychology', 'Sci...  \n",
       "1  ['Mental Health', 'Coronavirus', 'Science', 'P...  \n",
       "2  ['Biotechnology', 'Neuroscience', 'Brain', 'We...  \n",
       "3  ['Health', 'Neuroscience', 'Mental Health', 'P...  \n",
       "4  ['Brain', 'Health', 'Development', 'Psychology...  "
      ]
     },
     "execution_count": 6,
     "metadata": {},
     "output_type": "execute_result"
    }
   ],
   "source": [
    "df_articles.head()"
   ]
  },
  {
   "cell_type": "code",
   "execution_count": 7,
   "id": "4fb94682",
   "metadata": {},
   "outputs": [
    {
     "data": {
      "text/plain": [
       "(10000, 109729)"
      ]
     },
     "execution_count": 7,
     "metadata": {},
     "output_type": "execute_result"
    }
   ],
   "source": [
    "vectorizer = CountVectorizer(stop_words=\"english\")\n",
    "X = vectorizer.fit_transform(df_articles[\"text\"])\n",
    "X.shape"
   ]
  },
  {
   "cell_type": "code",
   "execution_count": 8,
   "id": "fe5d564c",
   "metadata": {},
   "outputs": [
    {
     "data": {
      "text/plain": [
       "(1, 109729)"
      ]
     },
     "execution_count": 8,
     "metadata": {},
     "output_type": "execute_result"
    }
   ],
   "source": [
    "query = \"how to learn data science\"\n",
    "query_vector = vectorizer.transform([query])\n",
    "query_vector.shape"
   ]
  },
  {
   "cell_type": "code",
   "execution_count": 24,
   "id": "5d3ac777",
   "metadata": {},
   "outputs": [
    {
     "data": {
      "text/plain": [
       "array([4209, 9507, 4756, 3946, 3792, 9310, 5916, 2081, 4151, 3707])"
      ]
     },
     "execution_count": 24,
     "metadata": {},
     "output_type": "execute_result"
    }
   ],
   "source": [
    "indices = query_vector.dot(X.T).toarray()[0].argsort()[::-1][:10]\n",
    "indices"
   ]
  },
  {
   "cell_type": "code",
   "execution_count": 25,
   "id": "26019d83",
   "metadata": {},
   "outputs": [
    {
     "data": {
      "text/html": [
       "<div>\n",
       "<style scoped>\n",
       "    .dataframe tbody tr th:only-of-type {\n",
       "        vertical-align: middle;\n",
       "    }\n",
       "\n",
       "    .dataframe tbody tr th {\n",
       "        vertical-align: top;\n",
       "    }\n",
       "\n",
       "    .dataframe thead th {\n",
       "        text-align: right;\n",
       "    }\n",
       "</style>\n",
       "<table border=\"1\" class=\"dataframe\">\n",
       "  <thead>\n",
       "    <tr style=\"text-align: right;\">\n",
       "      <th></th>\n",
       "      <th>title</th>\n",
       "      <th>text</th>\n",
       "      <th>url</th>\n",
       "      <th>authors</th>\n",
       "      <th>timestamp</th>\n",
       "      <th>tags</th>\n",
       "    </tr>\n",
       "  </thead>\n",
       "  <tbody>\n",
       "    <tr>\n",
       "      <th>4209</th>\n",
       "      <td>The Top Online Data Science Courses for 2019</td>\n",
       "      <td>After over 80+ hours of watching course videos...</td>\n",
       "      <td>https://medium.com/free-code-camp/top-7-online...</td>\n",
       "      <td>[]</td>\n",
       "      <td>2019-05-02 20:18:44.339000+00:00</td>\n",
       "      <td>['Artificial Intelligence', 'Machine Learning'...</td>\n",
       "    </tr>\n",
       "    <tr>\n",
       "      <th>9507</th>\n",
       "      <td>How Much Do You Know About Your Data And Is Yo...</td>\n",
       "      <td>How Much Do You Know About Your Data And Is Yo...</td>\n",
       "      <td>https://medium.com/datadriveninvestor/four-hur...</td>\n",
       "      <td>['Wilson Wong']</td>\n",
       "      <td>2020-10-19 05:01:43.511000+00:00</td>\n",
       "      <td>['Big Data', 'Innovation Management', 'Return ...</td>\n",
       "    </tr>\n",
       "    <tr>\n",
       "      <th>4756</th>\n",
       "      <td>Under the Hood of K-Nearest Neighbors (KNN) an...</td>\n",
       "      <td>Under the Hood of K-Nearest Neighbors (KNN) an...</td>\n",
       "      <td>https://medium.com/swlh/under-the-hood-of-k-ne...</td>\n",
       "      <td>['Boulevard Consulting']</td>\n",
       "      <td>2020-09-03 18:51:10.446000+00:00</td>\n",
       "      <td>['Iris', 'Python', 'K Nearest Neighbors', 'Cro...</td>\n",
       "    </tr>\n",
       "    <tr>\n",
       "      <th>3946</th>\n",
       "      <td>Streaming Real-time data to AWS Elasticsearch ...</td>\n",
       "      <td>Explore how we can deliver real-time data usin...</td>\n",
       "      <td>https://medium.com/swlh/streaming-real-time-da...</td>\n",
       "      <td>['Janitha Tennakoon']</td>\n",
       "      <td>2020-06-03 10:16:44.374000+00:00</td>\n",
       "      <td>['Big Data', 'Kinesis', 'AWS', 'Elasticsearch'...</td>\n",
       "    </tr>\n",
       "    <tr>\n",
       "      <th>3792</th>\n",
       "      <td>Financial Times Data Platform: From zero to hero</td>\n",
       "      <td>Financial Times Data Platform: From zero to he...</td>\n",
       "      <td>https://medium.com/ft-product-technology/finan...</td>\n",
       "      <td>['Mihail Petkov']</td>\n",
       "      <td>2020-12-02 09:59:40.123000+00:00</td>\n",
       "      <td>['Financial Times', 'Analytics', 'Engineering'...</td>\n",
       "    </tr>\n",
       "    <tr>\n",
       "      <th>9310</th>\n",
       "      <td>No data governance, no data intelligence!</td>\n",
       "      <td>Photo by Amanda Jones on Unsplash\\n\\nAny big t...</td>\n",
       "      <td>https://towardsdatascience.com/no-data-governa...</td>\n",
       "      <td>['Hassan Lâasri']</td>\n",
       "      <td>2019-11-12 20:41:37.264000+00:00</td>\n",
       "      <td>['Big Data', 'Data Analytics', 'Data Strategy'...</td>\n",
       "    </tr>\n",
       "    <tr>\n",
       "      <th>5916</th>\n",
       "      <td>Data Science, the Good, the Bad, and the… Future</td>\n",
       "      <td>How often do you think you’re touched by data ...</td>\n",
       "      <td>https://medium.com/kitepython/data-science-the...</td>\n",
       "      <td>['Kirit Thadaka']</td>\n",
       "      <td>2019-08-07 17:15:53.980000+00:00</td>\n",
       "      <td>['Privacy', 'Responsible Data Science', 'Pytho...</td>\n",
       "    </tr>\n",
       "    <tr>\n",
       "      <th>2081</th>\n",
       "      <td>A Layman’s Guide to Data Science: How to Becom...</td>\n",
       "      <td>How simple is Data Science?\\n\\nSometimes when ...</td>\n",
       "      <td>https://medium.com/sciforce/a-laymans-guide-to...</td>\n",
       "      <td>[]</td>\n",
       "      <td>2020-01-06 15:43:36.312000+00:00</td>\n",
       "      <td>['Programming', 'Machine Learning', 'Data Scie...</td>\n",
       "    </tr>\n",
       "    <tr>\n",
       "      <th>4151</th>\n",
       "      <td>Data Science for Everyone: Getting To Know You...</td>\n",
       "      <td>Data: Formulating the Concepts\\n\\nDefinitions\\...</td>\n",
       "      <td>https://medium.com/towards-artificial-intellig...</td>\n",
       "      <td>['Sumudu Tennakoon']</td>\n",
       "      <td>2020-12-24 01:03:36.911000+00:00</td>\n",
       "      <td>['Data Science', 'Machine Learning', 'Data Sci...</td>\n",
       "    </tr>\n",
       "    <tr>\n",
       "      <th>3707</th>\n",
       "      <td>Data science… without any data?!</td>\n",
       "      <td>Data science… without any data?!\\n\\nWhy it’s i...</td>\n",
       "      <td>https://towardsdatascience.com/data-science-wi...</td>\n",
       "      <td>['Cassie Kozyrkov']</td>\n",
       "      <td>2020-11-13 14:56:17.278000+00:00</td>\n",
       "      <td>['Data Science', 'Technology', 'Data Engineeri...</td>\n",
       "    </tr>\n",
       "  </tbody>\n",
       "</table>\n",
       "</div>"
      ],
      "text/plain": [
       "                                                  title  \\\n",
       "4209       The Top Online Data Science Courses for 2019   \n",
       "9507  How Much Do You Know About Your Data And Is Yo...   \n",
       "4756  Under the Hood of K-Nearest Neighbors (KNN) an...   \n",
       "3946  Streaming Real-time data to AWS Elasticsearch ...   \n",
       "3792   Financial Times Data Platform: From zero to hero   \n",
       "9310          No data governance, no data intelligence!   \n",
       "5916   Data Science, the Good, the Bad, and the… Future   \n",
       "2081  A Layman’s Guide to Data Science: How to Becom...   \n",
       "4151  Data Science for Everyone: Getting To Know You...   \n",
       "3707                   Data science… without any data?!   \n",
       "\n",
       "                                                   text  \\\n",
       "4209  After over 80+ hours of watching course videos...   \n",
       "9507  How Much Do You Know About Your Data And Is Yo...   \n",
       "4756  Under the Hood of K-Nearest Neighbors (KNN) an...   \n",
       "3946  Explore how we can deliver real-time data usin...   \n",
       "3792  Financial Times Data Platform: From zero to he...   \n",
       "9310  Photo by Amanda Jones on Unsplash\\n\\nAny big t...   \n",
       "5916  How often do you think you’re touched by data ...   \n",
       "2081  How simple is Data Science?\\n\\nSometimes when ...   \n",
       "4151  Data: Formulating the Concepts\\n\\nDefinitions\\...   \n",
       "3707  Data science… without any data?!\\n\\nWhy it’s i...   \n",
       "\n",
       "                                                    url  \\\n",
       "4209  https://medium.com/free-code-camp/top-7-online...   \n",
       "9507  https://medium.com/datadriveninvestor/four-hur...   \n",
       "4756  https://medium.com/swlh/under-the-hood-of-k-ne...   \n",
       "3946  https://medium.com/swlh/streaming-real-time-da...   \n",
       "3792  https://medium.com/ft-product-technology/finan...   \n",
       "9310  https://towardsdatascience.com/no-data-governa...   \n",
       "5916  https://medium.com/kitepython/data-science-the...   \n",
       "2081  https://medium.com/sciforce/a-laymans-guide-to...   \n",
       "4151  https://medium.com/towards-artificial-intellig...   \n",
       "3707  https://towardsdatascience.com/data-science-wi...   \n",
       "\n",
       "                       authors                         timestamp  \\\n",
       "4209                        []  2019-05-02 20:18:44.339000+00:00   \n",
       "9507           ['Wilson Wong']  2020-10-19 05:01:43.511000+00:00   \n",
       "4756  ['Boulevard Consulting']  2020-09-03 18:51:10.446000+00:00   \n",
       "3946     ['Janitha Tennakoon']  2020-06-03 10:16:44.374000+00:00   \n",
       "3792         ['Mihail Petkov']  2020-12-02 09:59:40.123000+00:00   \n",
       "9310         ['Hassan Lâasri']  2019-11-12 20:41:37.264000+00:00   \n",
       "5916         ['Kirit Thadaka']  2019-08-07 17:15:53.980000+00:00   \n",
       "2081                        []  2020-01-06 15:43:36.312000+00:00   \n",
       "4151      ['Sumudu Tennakoon']  2020-12-24 01:03:36.911000+00:00   \n",
       "3707       ['Cassie Kozyrkov']  2020-11-13 14:56:17.278000+00:00   \n",
       "\n",
       "                                                   tags  \n",
       "4209  ['Artificial Intelligence', 'Machine Learning'...  \n",
       "9507  ['Big Data', 'Innovation Management', 'Return ...  \n",
       "4756  ['Iris', 'Python', 'K Nearest Neighbors', 'Cro...  \n",
       "3946  ['Big Data', 'Kinesis', 'AWS', 'Elasticsearch'...  \n",
       "3792  ['Financial Times', 'Analytics', 'Engineering'...  \n",
       "9310  ['Big Data', 'Data Analytics', 'Data Strategy'...  \n",
       "5916  ['Privacy', 'Responsible Data Science', 'Pytho...  \n",
       "2081  ['Programming', 'Machine Learning', 'Data Scie...  \n",
       "4151  ['Data Science', 'Machine Learning', 'Data Sci...  \n",
       "3707  ['Data Science', 'Technology', 'Data Engineeri...  "
      ]
     },
     "execution_count": 25,
     "metadata": {},
     "output_type": "execute_result"
    }
   ],
   "source": [
    "df_articles.loc[indices]"
   ]
  },
  {
   "cell_type": "code",
   "execution_count": 22,
   "id": "fe7cdb3e",
   "metadata": {},
   "outputs": [
    {
     "data": {
      "text/html": [
       "<div>\n",
       "<style scoped>\n",
       "    .dataframe tbody tr th:only-of-type {\n",
       "        vertical-align: middle;\n",
       "    }\n",
       "\n",
       "    .dataframe tbody tr th {\n",
       "        vertical-align: top;\n",
       "    }\n",
       "\n",
       "    .dataframe thead th {\n",
       "        text-align: right;\n",
       "    }\n",
       "</style>\n",
       "<table border=\"1\" class=\"dataframe\">\n",
       "  <thead>\n",
       "    <tr style=\"text-align: right;\">\n",
       "      <th></th>\n",
       "      <th>title</th>\n",
       "      <th>text</th>\n",
       "      <th>url</th>\n",
       "      <th>authors</th>\n",
       "      <th>timestamp</th>\n",
       "      <th>tags</th>\n",
       "    </tr>\n",
       "  </thead>\n",
       "  <tbody>\n",
       "    <tr>\n",
       "      <th>5055</th>\n",
       "      <td>Data Science Scholarships-Full-list Compilations.</td>\n",
       "      <td>Data Science has been described as one of the ...</td>\n",
       "      <td>https://medium.com/total-data-science/data-sci...</td>\n",
       "      <td>[]</td>\n",
       "      <td>2020-11-14 01:44:52.109000+00:00</td>\n",
       "      <td>['Machine Learning', 'Data Science', 'Artifici...</td>\n",
       "    </tr>\n",
       "    <tr>\n",
       "      <th>5223</th>\n",
       "      <td>5 Steps to Become a Data Scientist</td>\n",
       "      <td>Data Scientist image. Source: www.quora.com\\n\\...</td>\n",
       "      <td>https://medium.com/towards-artificial-intellig...</td>\n",
       "      <td>['Benjamin Obi Tayo Ph.D.']</td>\n",
       "      <td>2020-06-11 17:21:11.092000+00:00</td>\n",
       "      <td>['Artificial Intelligence', 'Data Science', 'F...</td>\n",
       "    </tr>\n",
       "    <tr>\n",
       "      <th>5916</th>\n",
       "      <td>Data Science, the Good, the Bad, and the… Future</td>\n",
       "      <td>How often do you think you’re touched by data ...</td>\n",
       "      <td>https://medium.com/kitepython/data-science-the...</td>\n",
       "      <td>['Kirit Thadaka']</td>\n",
       "      <td>2019-08-07 17:15:53.980000+00:00</td>\n",
       "      <td>['Privacy', 'Responsible Data Science', 'Pytho...</td>\n",
       "    </tr>\n",
       "    <tr>\n",
       "      <th>3707</th>\n",
       "      <td>Data science… without any data?!</td>\n",
       "      <td>Data science… without any data?!\\n\\nWhy it’s i...</td>\n",
       "      <td>https://towardsdatascience.com/data-science-wi...</td>\n",
       "      <td>['Cassie Kozyrkov']</td>\n",
       "      <td>2020-11-13 14:56:17.278000+00:00</td>\n",
       "      <td>['Data Science', 'Technology', 'Data Engineeri...</td>\n",
       "    </tr>\n",
       "    <tr>\n",
       "      <th>4209</th>\n",
       "      <td>The Top Online Data Science Courses for 2019</td>\n",
       "      <td>After over 80+ hours of watching course videos...</td>\n",
       "      <td>https://medium.com/free-code-camp/top-7-online...</td>\n",
       "      <td>[]</td>\n",
       "      <td>2019-05-02 20:18:44.339000+00:00</td>\n",
       "      <td>['Artificial Intelligence', 'Machine Learning'...</td>\n",
       "    </tr>\n",
       "    <tr>\n",
       "      <th>6723</th>\n",
       "      <td>Becoming a Data scientist: which path to take?</td>\n",
       "      <td>Becoming a Data scientist: which path to take?...</td>\n",
       "      <td>https://towardsdatascience.com/becoming-a-data...</td>\n",
       "      <td>['Chan Naseeb']</td>\n",
       "      <td>2020-06-08 13:58:10.917000+00:00</td>\n",
       "      <td>['Deep Learning', 'Artificial Intelligence', '...</td>\n",
       "    </tr>\n",
       "    <tr>\n",
       "      <th>3609</th>\n",
       "      <td>Roadmap to Becoming a Successful Data Scientist</td>\n",
       "      <td>1) Python Basics\\n\\nIn order to become a data ...</td>\n",
       "      <td>https://medium.com/dataseries/roadmap-to-becom...</td>\n",
       "      <td>['Mustufa Ansari']</td>\n",
       "      <td>2020-08-28 09:10:51.156000+00:00</td>\n",
       "      <td>['Machine Learning', 'Artificial Intelligence'...</td>\n",
       "    </tr>\n",
       "    <tr>\n",
       "      <th>2081</th>\n",
       "      <td>A Layman’s Guide to Data Science: How to Becom...</td>\n",
       "      <td>How simple is Data Science?\\n\\nSometimes when ...</td>\n",
       "      <td>https://medium.com/sciforce/a-laymans-guide-to...</td>\n",
       "      <td>[]</td>\n",
       "      <td>2020-01-06 15:43:36.312000+00:00</td>\n",
       "      <td>['Programming', 'Machine Learning', 'Data Scie...</td>\n",
       "    </tr>\n",
       "    <tr>\n",
       "      <th>5241</th>\n",
       "      <td>The Difference Between Theory and Theorem and ...</td>\n",
       "      <td>The Difference Between Theory and Theorem and ...</td>\n",
       "      <td>https://everydayjunglist.medium.com/the-differ...</td>\n",
       "      <td>['Daniel Demarco']</td>\n",
       "      <td>2018-11-01 02:27:31.363000+00:00</td>\n",
       "      <td>['Philosophy Of Science', 'Philosophy', 'Data ...</td>\n",
       "    </tr>\n",
       "    <tr>\n",
       "      <th>6950</th>\n",
       "      <td>Freelance your way into Data Science now</td>\n",
       "      <td>Freelance your way into Data Science now\\n\\nHo...</td>\n",
       "      <td>https://medium.com/data-science-rush/freelance...</td>\n",
       "      <td>['Przemek Chojecki']</td>\n",
       "      <td>2019-12-09 18:38:31.365000+00:00</td>\n",
       "      <td>['Work', 'Python', 'Data Science', 'Freelancin...</td>\n",
       "    </tr>\n",
       "  </tbody>\n",
       "</table>\n",
       "</div>"
      ],
      "text/plain": [
       "                                                  title  \\\n",
       "5055  Data Science Scholarships-Full-list Compilations.   \n",
       "5223                 5 Steps to Become a Data Scientist   \n",
       "5916   Data Science, the Good, the Bad, and the… Future   \n",
       "3707                   Data science… without any data?!   \n",
       "4209       The Top Online Data Science Courses for 2019   \n",
       "6723     Becoming a Data scientist: which path to take?   \n",
       "3609    Roadmap to Becoming a Successful Data Scientist   \n",
       "2081  A Layman’s Guide to Data Science: How to Becom...   \n",
       "5241  The Difference Between Theory and Theorem and ...   \n",
       "6950           Freelance your way into Data Science now   \n",
       "\n",
       "                                                   text  \\\n",
       "5055  Data Science has been described as one of the ...   \n",
       "5223  Data Scientist image. Source: www.quora.com\\n\\...   \n",
       "5916  How often do you think you’re touched by data ...   \n",
       "3707  Data science… without any data?!\\n\\nWhy it’s i...   \n",
       "4209  After over 80+ hours of watching course videos...   \n",
       "6723  Becoming a Data scientist: which path to take?...   \n",
       "3609  1) Python Basics\\n\\nIn order to become a data ...   \n",
       "2081  How simple is Data Science?\\n\\nSometimes when ...   \n",
       "5241  The Difference Between Theory and Theorem and ...   \n",
       "6950  Freelance your way into Data Science now\\n\\nHo...   \n",
       "\n",
       "                                                    url  \\\n",
       "5055  https://medium.com/total-data-science/data-sci...   \n",
       "5223  https://medium.com/towards-artificial-intellig...   \n",
       "5916  https://medium.com/kitepython/data-science-the...   \n",
       "3707  https://towardsdatascience.com/data-science-wi...   \n",
       "4209  https://medium.com/free-code-camp/top-7-online...   \n",
       "6723  https://towardsdatascience.com/becoming-a-data...   \n",
       "3609  https://medium.com/dataseries/roadmap-to-becom...   \n",
       "2081  https://medium.com/sciforce/a-laymans-guide-to...   \n",
       "5241  https://everydayjunglist.medium.com/the-differ...   \n",
       "6950  https://medium.com/data-science-rush/freelance...   \n",
       "\n",
       "                          authors                         timestamp  \\\n",
       "5055                           []  2020-11-14 01:44:52.109000+00:00   \n",
       "5223  ['Benjamin Obi Tayo Ph.D.']  2020-06-11 17:21:11.092000+00:00   \n",
       "5916            ['Kirit Thadaka']  2019-08-07 17:15:53.980000+00:00   \n",
       "3707          ['Cassie Kozyrkov']  2020-11-13 14:56:17.278000+00:00   \n",
       "4209                           []  2019-05-02 20:18:44.339000+00:00   \n",
       "6723              ['Chan Naseeb']  2020-06-08 13:58:10.917000+00:00   \n",
       "3609           ['Mustufa Ansari']  2020-08-28 09:10:51.156000+00:00   \n",
       "2081                           []  2020-01-06 15:43:36.312000+00:00   \n",
       "5241           ['Daniel Demarco']  2018-11-01 02:27:31.363000+00:00   \n",
       "6950         ['Przemek Chojecki']  2019-12-09 18:38:31.365000+00:00   \n",
       "\n",
       "                                                   tags  \n",
       "5055  ['Machine Learning', 'Data Science', 'Artifici...  \n",
       "5223  ['Artificial Intelligence', 'Data Science', 'F...  \n",
       "5916  ['Privacy', 'Responsible Data Science', 'Pytho...  \n",
       "3707  ['Data Science', 'Technology', 'Data Engineeri...  \n",
       "4209  ['Artificial Intelligence', 'Machine Learning'...  \n",
       "6723  ['Deep Learning', 'Artificial Intelligence', '...  \n",
       "3609  ['Machine Learning', 'Artificial Intelligence'...  \n",
       "2081  ['Programming', 'Machine Learning', 'Data Scie...  \n",
       "5241  ['Philosophy Of Science', 'Philosophy', 'Data ...  \n",
       "6950  ['Work', 'Python', 'Data Science', 'Freelancin...  "
      ]
     },
     "execution_count": 22,
     "metadata": {},
     "output_type": "execute_result"
    }
   ],
   "source": [
    "from sklearn.feature_extraction.text import CountVectorizer\n",
    "from sklearn.metrics.pairwise import cosine_similarity\n",
    "\n",
    "# Vectorize the corpus\n",
    "vectorizer = CountVectorizer(stop_words=\"english\")\n",
    "X = vectorizer.fit_transform(df_articles[\"text\"])  # Document-term matrix\n",
    "\n",
    "# Process query\n",
    "query = \"how to learn data science\"\n",
    "query_vector = vectorizer.transform([query])\n",
    "\n",
    "# Compute cosine similarity\n",
    "similarities = cosine_similarity(query_vector, X).flatten()  # shape: (num_documents,)\n",
    "\n",
    "# Get top 10 most similar articles\n",
    "top_indices = similarities.argsort()[::-1][:10]\n",
    "\n",
    "# Retrieve top articles\n",
    "top_articles = df_articles.iloc[top_indices]\n",
    "top_articles\n"
   ]
  },
  {
   "cell_type": "code",
   "execution_count": null,
   "id": "14f77d29",
   "metadata": {},
   "outputs": [],
   "source": []
  }
 ],
 "metadata": {
  "kernelspec": {
   "display_name": "nlpplanet",
   "language": "python",
   "name": "python3"
  },
  "language_info": {
   "codemirror_mode": {
    "name": "ipython",
    "version": 3
   },
   "file_extension": ".py",
   "mimetype": "text/x-python",
   "name": "python",
   "nbconvert_exporter": "python",
   "pygments_lexer": "ipython3",
   "version": "3.11.9"
  }
 },
 "nbformat": 4,
 "nbformat_minor": 5
}
